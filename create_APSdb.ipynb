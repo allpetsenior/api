{
 "cells": [
  {
   "cell_type": "code",
   "execution_count": 1,
   "id": "a77fba03-58aa-4035-9000-83c139e9395f",
   "metadata": {},
   "outputs": [],
   "source": [
    "import os\n",
    "import sys\n",
    "from psycopg2 import pool\n",
    "from dotenv import load_dotenv\n",
    "import pandas as pd\n",
    "from asgiref.sync import sync_to_async"
   ]
  },
  {
   "cell_type": "code",
   "execution_count": 2,
   "id": "7d560314-70ba-40f7-9db6-e95a2cfd4c3e",
   "metadata": {},
   "outputs": [],
   "source": [
    "import django\n",
    "from django.core.management import execute_from_command_line\n",
    "\n",
    "os.environ.setdefault(\"DJANGO_SETTINGS_MODULE\", \"app.settings\")\n",
    "os.environ[\"DJANGO_ALLOW_ASYNC_UNSAFE\"] = \"true\"\n",
    "django.setup()\n",
    "\n",
    "from pets.models import PetRace\n",
    "\n",
    "# test.objects.all().delete()"
   ]
  },
  {
   "cell_type": "code",
   "execution_count": 3,
   "id": "227416b8-eb88-4dfb-bc75-7019ff07315d",
   "metadata": {},
   "outputs": [],
   "source": [
    "execute_from_command_line(['manage.py', 'showmigrations'])"
   ]
  },
  {
   "cell_type": "code",
   "execution_count": 4,
   "id": "0506322d-8840-4668-afdc-7127ec4794fe",
   "metadata": {},
   "outputs": [
    {
     "name": "stdout",
     "output_type": "stream",
     "text": [
      "\u001b[36;1mMigrations for 'pets':\u001b[0m\n",
      "  \u001b[1mpets/migrations/0005_petrace.py\u001b[0m\n",
      "    + Create model PetRace\n"
     ]
    }
   ],
   "source": [
    "execute_from_command_line(['manage.py', 'makemigrations'])"
   ]
  },
  {
   "cell_type": "code",
   "execution_count": 5,
   "id": "3163bc48-e9a8-4908-a82b-e3ef3af88e4d",
   "metadata": {},
   "outputs": [
    {
     "name": "stdout",
     "output_type": "stream",
     "text": [
      "\u001b[36;1mOperations to perform:\u001b[0m\n",
      "\u001b[1m  Apply all migrations: \u001b[0madmin, auth, authtoken, contenttypes, core, pets, sessions\n",
      "\u001b[36;1mRunning migrations:\u001b[0m\n",
      "  Applying pets.0005_petrace...\u001b[32;1m OK\u001b[0m\n"
     ]
    }
   ],
   "source": [
    "execute_from_command_line(['manage.py', 'migrate'])"
   ]
  },
  {
   "cell_type": "code",
   "execution_count": 6,
   "id": "1949b3e5-5119-4b1b-9ba3-0413befceba6",
   "metadata": {},
   "outputs": [
    {
     "name": "stdout",
     "output_type": "stream",
     "text": [
      "Connection pool created successfully\n"
     ]
    }
   ],
   "source": [
    "load_dotenv()\n",
    "connection_string = os.getenv('DATABASE_URL')\n",
    "connection_pool = pool.SimpleConnectionPool(1, 10,connection_string)\n",
    "# Check if the pool was created successfully\n",
    "if connection_pool:\n",
    "    print(\"Connection pool created successfully\")"
   ]
  },
  {
   "cell_type": "code",
   "execution_count": 11,
   "id": "09381b44-d40b-4e45-99e4-926b546ea839",
   "metadata": {},
   "outputs": [],
   "source": [
    "dbCao = pd.read_excel(r\"/home/errison/Documentos/AllPetSenior/Gdrive/Lista_de_racas.xlsx\",sheet_name=\"cão\")\n",
    "dbCao['Porte'] = dbCao['Porte'].where(pd.notnull(dbCao['Porte']), None)\n",
    "dbCao[\"Peso_minimo\"] = dbCao[\"Peso_minimo\"].replace(to_replace=\",\", value=\".\", regex=True)\n",
    "dbCao[\"Peso_maximo\"] = dbCao[\"Peso_maximo\"].replace(to_replace=\",\", value=\".\", regex=True)\n",
    "dbCao = dbCao.drop('Genero', axis=1)\n",
    "\n",
    "dbGato = pd.read_excel(r\"/home/errison/Documentos/AllPetSenior/Gdrive/Lista_de_racas.xlsx\",sheet_name=\"gato\")\n",
    "dbGato[\"Peso_minimo\"] = dbGato[\"Peso_minimo\"].replace(to_replace=\",\", value=\".\", regex=True)\n",
    "dbGato[\"Peso_maximo\"] = dbGato[\"Peso_maximo\"].replace(to_replace=\",\", value=\".\", regex=True)"
   ]
  },
  {
   "cell_type": "code",
   "execution_count": 12,
   "id": "4e000439-2288-4f31-98df-c188934fc650",
   "metadata": {},
   "outputs": [
    {
     "data": {
      "text/html": [
       "<div>\n",
       "<style scoped>\n",
       "    .dataframe tbody tr th:only-of-type {\n",
       "        vertical-align: middle;\n",
       "    }\n",
       "\n",
       "    .dataframe tbody tr th {\n",
       "        vertical-align: top;\n",
       "    }\n",
       "\n",
       "    .dataframe thead th {\n",
       "        text-align: right;\n",
       "    }\n",
       "</style>\n",
       "<table border=\"1\" class=\"dataframe\">\n",
       "  <thead>\n",
       "    <tr style=\"text-align: right;\">\n",
       "      <th></th>\n",
       "      <th>Nome</th>\n",
       "      <th>Porte</th>\n",
       "      <th>Peso_minimo</th>\n",
       "      <th>Peso_maximo</th>\n",
       "    </tr>\n",
       "  </thead>\n",
       "  <tbody>\n",
       "    <tr>\n",
       "      <th>0</th>\n",
       "      <td>Affenpinscher</td>\n",
       "      <td>None</td>\n",
       "      <td>4</td>\n",
       "      <td>6</td>\n",
       "    </tr>\n",
       "    <tr>\n",
       "      <th>1</th>\n",
       "      <td>Afghan Hound (Galgo afegão)</td>\n",
       "      <td>None</td>\n",
       "      <td>22</td>\n",
       "      <td>27</td>\n",
       "    </tr>\n",
       "    <tr>\n",
       "      <th>2</th>\n",
       "      <td>Airedale Terrier</td>\n",
       "      <td>None</td>\n",
       "      <td>18</td>\n",
       "      <td>29</td>\n",
       "    </tr>\n",
       "    <tr>\n",
       "      <th>3</th>\n",
       "      <td>Akita americano</td>\n",
       "      <td>None</td>\n",
       "      <td>31</td>\n",
       "      <td>59</td>\n",
       "    </tr>\n",
       "    <tr>\n",
       "      <th>4</th>\n",
       "      <td>Akita Inu</td>\n",
       "      <td>None</td>\n",
       "      <td>31</td>\n",
       "      <td>54</td>\n",
       "    </tr>\n",
       "    <tr>\n",
       "      <th>...</th>\n",
       "      <td>...</td>\n",
       "      <td>...</td>\n",
       "      <td>...</td>\n",
       "      <td>...</td>\n",
       "    </tr>\n",
       "    <tr>\n",
       "      <th>411</th>\n",
       "      <td>Xoloitzcuintle</td>\n",
       "      <td>Pequeno</td>\n",
       "      <td>6.8</td>\n",
       "      <td>13.6</td>\n",
       "    </tr>\n",
       "    <tr>\n",
       "      <th>412</th>\n",
       "      <td>Xoloitzcuintle</td>\n",
       "      <td>Miniatura</td>\n",
       "      <td>4.5</td>\n",
       "      <td>6.8</td>\n",
       "    </tr>\n",
       "    <tr>\n",
       "      <th>413</th>\n",
       "      <td>Xoloitzcuintle</td>\n",
       "      <td>Médio</td>\n",
       "      <td>13.6</td>\n",
       "      <td>25</td>\n",
       "    </tr>\n",
       "    <tr>\n",
       "      <th>414</th>\n",
       "      <td>Yorkipoo</td>\n",
       "      <td>None</td>\n",
       "      <td>1.4</td>\n",
       "      <td>6.4</td>\n",
       "    </tr>\n",
       "    <tr>\n",
       "      <th>415</th>\n",
       "      <td>Yorkshire Terrier</td>\n",
       "      <td>None</td>\n",
       "      <td>1.8</td>\n",
       "      <td>3.2</td>\n",
       "    </tr>\n",
       "  </tbody>\n",
       "</table>\n",
       "<p>416 rows × 4 columns</p>\n",
       "</div>"
      ],
      "text/plain": [
       "                            Nome      Porte Peso_minimo Peso_maximo\n",
       "0                  Affenpinscher       None           4           6\n",
       "1    Afghan Hound (Galgo afegão)       None          22          27\n",
       "2               Airedale Terrier       None          18          29\n",
       "3                Akita americano       None          31          59\n",
       "4                      Akita Inu       None          31          54\n",
       "..                           ...        ...         ...         ...\n",
       "411               Xoloitzcuintle    Pequeno         6.8        13.6\n",
       "412               Xoloitzcuintle  Miniatura         4.5         6.8\n",
       "413               Xoloitzcuintle      Médio        13.6          25\n",
       "414                     Yorkipoo       None         1.4         6.4\n",
       "415            Yorkshire Terrier       None         1.8         3.2\n",
       "\n",
       "[416 rows x 4 columns]"
      ]
     },
     "execution_count": 12,
     "metadata": {},
     "output_type": "execute_result"
    }
   ],
   "source": [
    "dbCao"
   ]
  },
  {
   "cell_type": "code",
   "execution_count": 13,
   "id": "1dc70473-0f22-4439-9dad-ab4d82f439ba",
   "metadata": {
    "scrolled": true
   },
   "outputs": [
    {
     "data": {
      "text/html": [
       "<div>\n",
       "<style scoped>\n",
       "    .dataframe tbody tr th:only-of-type {\n",
       "        vertical-align: middle;\n",
       "    }\n",
       "\n",
       "    .dataframe tbody tr th {\n",
       "        vertical-align: top;\n",
       "    }\n",
       "\n",
       "    .dataframe thead th {\n",
       "        text-align: right;\n",
       "    }\n",
       "</style>\n",
       "<table border=\"1\" class=\"dataframe\">\n",
       "  <thead>\n",
       "    <tr style=\"text-align: right;\">\n",
       "      <th></th>\n",
       "      <th>Nome</th>\n",
       "      <th>Peso_minimo</th>\n",
       "      <th>Peso_maximo</th>\n",
       "    </tr>\n",
       "  </thead>\n",
       "  <tbody>\n",
       "    <tr>\n",
       "      <th>0</th>\n",
       "      <td>SRD</td>\n",
       "      <td>3</td>\n",
       "      <td>5</td>\n",
       "    </tr>\n",
       "    <tr>\n",
       "      <th>1</th>\n",
       "      <td>Abissínio</td>\n",
       "      <td>3</td>\n",
       "      <td>6</td>\n",
       "    </tr>\n",
       "    <tr>\n",
       "      <th>2</th>\n",
       "      <td>Bobtail Americano</td>\n",
       "      <td>3.5</td>\n",
       "      <td>6</td>\n",
       "    </tr>\n",
       "    <tr>\n",
       "      <th>3</th>\n",
       "      <td>American Curl</td>\n",
       "      <td>3.2</td>\n",
       "      <td>5.5</td>\n",
       "    </tr>\n",
       "    <tr>\n",
       "      <th>4</th>\n",
       "      <td>American Shorthair</td>\n",
       "      <td>2.7</td>\n",
       "      <td>6.8</td>\n",
       "    </tr>\n",
       "    <tr>\n",
       "      <th>...</th>\n",
       "      <td>...</td>\n",
       "      <td>...</td>\n",
       "      <td>...</td>\n",
       "    </tr>\n",
       "    <tr>\n",
       "      <th>75</th>\n",
       "      <td>Savannah</td>\n",
       "      <td>15</td>\n",
       "      <td>25</td>\n",
       "    </tr>\n",
       "    <tr>\n",
       "      <th>76</th>\n",
       "      <td>Nebelung</td>\n",
       "      <td>3</td>\n",
       "      <td>6</td>\n",
       "    </tr>\n",
       "    <tr>\n",
       "      <th>77</th>\n",
       "      <td>Selvagem</td>\n",
       "      <td>3</td>\n",
       "      <td>8</td>\n",
       "    </tr>\n",
       "    <tr>\n",
       "      <th>78</th>\n",
       "      <td>Ashera</td>\n",
       "      <td>12</td>\n",
       "      <td>15</td>\n",
       "    </tr>\n",
       "    <tr>\n",
       "      <th>79</th>\n",
       "      <td>Himalaio</td>\n",
       "      <td>3.5</td>\n",
       "      <td>7</td>\n",
       "    </tr>\n",
       "  </tbody>\n",
       "</table>\n",
       "<p>80 rows × 3 columns</p>\n",
       "</div>"
      ],
      "text/plain": [
       "                  Nome Peso_minimo Peso_maximo\n",
       "0                 SRD            3           5\n",
       "1            Abissínio           3           6\n",
       "2    Bobtail Americano         3.5           6\n",
       "3        American Curl         3.2         5.5\n",
       "4   American Shorthair         2.7         6.8\n",
       "..                 ...         ...         ...\n",
       "75            Savannah          15          25\n",
       "76            Nebelung           3           6\n",
       "77            Selvagem           3           8\n",
       "78              Ashera          12          15\n",
       "79            Himalaio         3.5           7\n",
       "\n",
       "[80 rows x 3 columns]"
      ]
     },
     "execution_count": 13,
     "metadata": {},
     "output_type": "execute_result"
    }
   ],
   "source": [
    "dbGato"
   ]
  },
  {
   "cell_type": "code",
   "execution_count": 14,
   "id": "6b3b9a5a-cbdd-4deb-8c59-8f72a47e77d0",
   "metadata": {},
   "outputs": [],
   "source": [
    "for i in range(len(dbCao)):    \n",
    "    pet_race = PetRace() \n",
    "    pet_race.name = dbCao['Nome'][i]\n",
    "    pet_race.specie = 'DOG'\n",
    "    pet_race.min_weight = dbCao['Peso_minimo'][i]\n",
    "    pet_race.max_weight = dbCao['Peso_maximo'][i]\n",
    "    pet_race.size = dbCao['Porte'][i]\n",
    "\n",
    "    pet_race.save()"
   ]
  },
  {
   "cell_type": "code",
   "execution_count": 15,
   "id": "616fd307-898e-43aa-8a1e-a363f11a0dd3",
   "metadata": {},
   "outputs": [],
   "source": [
    "for i in range(len(dbGato)):    \n",
    "    pet_race = PetRace() \n",
    "    pet_race.name = dbGato['Nome'][i]\n",
    "    pet_race.specie = 'CAT'\n",
    "    pet_race.min_weight = dbGato['Peso_minimo'][i]\n",
    "    pet_race.max_weight = dbGato['Peso_maximo'][i]\n",
    "    # pet_race.size = dbGato['Porte'][i]\n",
    "\n",
    "    pet_race.save()"
   ]
  },
  {
   "cell_type": "code",
   "execution_count": 16,
   "id": "c4700ba1-f038-480a-9c5d-ccdb9f3e0c4d",
   "metadata": {},
   "outputs": [],
   "source": [
    "conn = connection_pool.getconn()\n",
    "cur = conn.cursor()\n",
    "\n",
    "cur.close()\n",
    "connection_pool.putconn(conn)\n",
    "connection_pool.closeall()    "
   ]
  },
  {
   "cell_type": "code",
   "execution_count": null,
   "id": "cc913f1e-8eca-42cc-935b-7c15972a3ef5",
   "metadata": {},
   "outputs": [],
   "source": []
  }
 ],
 "metadata": {
  "kernelspec": {
   "display_name": "Python 3 (Spyder)",
   "language": "python3",
   "name": "python3"
  },
  "language_info": {
   "codemirror_mode": {
    "name": "ipython",
    "version": 3
   },
   "file_extension": ".py",
   "mimetype": "text/x-python",
   "name": "python",
   "nbconvert_exporter": "python",
   "pygments_lexer": "ipython3",
   "version": "3.9.21"
  }
 },
 "nbformat": 4,
 "nbformat_minor": 5
}
